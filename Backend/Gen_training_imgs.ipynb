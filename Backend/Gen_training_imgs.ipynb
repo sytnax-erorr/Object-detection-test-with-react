{
  "nbformat": 4,
  "nbformat_minor": 0,
  "metadata": {
    "colab": {
      "name": "Gen-training-imgs.ipynb",
      "provenance": [],
      "collapsed_sections": []
    },
    "kernelspec": {
      "name": "python3",
      "display_name": "Python 3"
    },
    "language_info": {
      "name": "python"
    }
  },
  "cells": [
    {
      "cell_type": "code",
      "metadata": {
        "id": "_Fboi0CLyDzJ"
      },
      "source": [
        "# from google.colab import drive\n",
        "# drive.mount('/content/drive')"
      ],
      "execution_count": null,
      "outputs": []
    },
    {
      "cell_type": "code",
      "metadata": {
        "id": "MEABJBqKyEPs"
      },
      "source": [
        "import os\n",
        "import glob\n",
        "import numpy as np\n",
        "import pandas as pd\n",
        "import matplotlib.pyplot as plt\n",
        "from pathlib import Path\n",
        "from PIL import Image\n",
        "import random\n",
        "import cv2\n",
        "from tqdm import tqdm\n",
        "\n",
        "import torch\n",
        "import torchvision.transforms.functional as F"
      ],
      "execution_count": null,
      "outputs": []
    },
    {
      "cell_type": "code",
      "metadata": {
        "id": "EuF9hSgIyY-D"
      },
      "source": [
        "ROOT_DIR = '/content/drive/MyDrive/ML'"
      ],
      "execution_count": null,
      "outputs": []
    },
    {
      "cell_type": "code",
      "metadata": {
        "id": "zG5lvb9iydla"
      },
      "source": [
        "# labels = [{'name':'Apple', 'id':1}, {'name':'Banana', 'id':2}, {'name':'Orange', 'id':3}]\n",
        "\n",
        "# with open(ROOT_DIR + '/Data/label_map.pbtxt', 'w') as f:\n",
        "#     for label in labels:\n",
        "#         f.write('item { \\n')\n",
        "#         f.write('\\tname:\\'{}\\'\\n'.format(label['name']))\n",
        "#         f.write('\\tid:{}\\n'.format(label['id']))\n",
        "#         f.write('}\\n')"
      ],
      "execution_count": null,
      "outputs": []
    },
    {
      "cell_type": "code",
      "metadata": {
        "colab": {
          "base_uri": "https://localhost:8080/"
        },
        "id": "gIyCC3xizuEw",
        "outputId": "93f850ba-d5f8-44e4-d1ec-498d4efb18aa"
      },
      "source": [
        "!python {ROOT_DIR + '/Utils/xml_to_csv.py'} 'xml' \\\n",
        "        {ROOT_DIR + '/Data/train/'}  \\\n",
        "        {ROOT_DIR + '/Data/train.csv'} \n",
        "\n",
        "\n",
        "# !python {ROOT_DIR + '/Utils/xml_to_csv.py'} 'xml' \\\n",
        "#         {ROOT_DIR + '/Data/test/'}  \\\n",
        "#         {ROOT_DIR + '/Data/test.csv'} \n"
      ],
      "execution_count": null,
      "outputs": [
        {
          "output_type": "stream",
          "text": [
            "100% 240/240 [02:06<00:00,  1.89it/s]\n"
          ],
          "name": "stdout"
        }
      ]
    },
    {
      "cell_type": "code",
      "metadata": {
        "colab": {
          "base_uri": "https://localhost:8080/",
          "height": 142
        },
        "id": "jzrm8TWqI3jO",
        "outputId": "755cb9e8-9116-4f81-c432-ba4219d0931f"
      },
      "source": [
        "\n",
        "train_csv = pd.read_csv(str(ROOT_DIR + '/Data/train.csv'))\n",
        "train_csv.head(3)\n",
        "\n",
        "# test_csv = pd.read_csv(str(ROOT_DIR + '/Data/test.csv'))\n",
        "# test_csv.head(3)\n"
      ],
      "execution_count": null,
      "outputs": [
        {
          "output_type": "execute_result",
          "data": {
            "text/html": [
              "<div>\n",
              "<style scoped>\n",
              "    .dataframe tbody tr th:only-of-type {\n",
              "        vertical-align: middle;\n",
              "    }\n",
              "\n",
              "    .dataframe tbody tr th {\n",
              "        vertical-align: top;\n",
              "    }\n",
              "\n",
              "    .dataframe thead th {\n",
              "        text-align: right;\n",
              "    }\n",
              "</style>\n",
              "<table border=\"1\" class=\"dataframe\">\n",
              "  <thead>\n",
              "    <tr style=\"text-align: right;\">\n",
              "      <th></th>\n",
              "      <th>filename</th>\n",
              "      <th>width</th>\n",
              "      <th>height</th>\n",
              "      <th>class</th>\n",
              "      <th>xmin</th>\n",
              "      <th>ymin</th>\n",
              "      <th>xmax</th>\n",
              "      <th>ymax</th>\n",
              "    </tr>\n",
              "  </thead>\n",
              "  <tbody>\n",
              "    <tr>\n",
              "      <th>0</th>\n",
              "      <td>banana_28.jpg</td>\n",
              "      <td>1008</td>\n",
              "      <td>1008</td>\n",
              "      <td>banana</td>\n",
              "      <td>41</td>\n",
              "      <td>260</td>\n",
              "      <td>943</td>\n",
              "      <td>738</td>\n",
              "    </tr>\n",
              "    <tr>\n",
              "      <th>1</th>\n",
              "      <td>banana_50.jpg</td>\n",
              "      <td>620</td>\n",
              "      <td>413</td>\n",
              "      <td>banana</td>\n",
              "      <td>373</td>\n",
              "      <td>104</td>\n",
              "      <td>514</td>\n",
              "      <td>345</td>\n",
              "    </tr>\n",
              "    <tr>\n",
              "      <th>2</th>\n",
              "      <td>banana_50.jpg</td>\n",
              "      <td>620</td>\n",
              "      <td>413</td>\n",
              "      <td>banana</td>\n",
              "      <td>298</td>\n",
              "      <td>93</td>\n",
              "      <td>382</td>\n",
              "      <td>354</td>\n",
              "    </tr>\n",
              "  </tbody>\n",
              "</table>\n",
              "</div>"
            ],
            "text/plain": [
              "        filename  width  height   class  xmin  ymin  xmax  ymax\n",
              "0  banana_28.jpg   1008    1008  banana    41   260   943   738\n",
              "1  banana_50.jpg    620     413  banana   373   104   514   345\n",
              "2  banana_50.jpg    620     413  banana   298    93   382   354"
            ]
          },
          "metadata": {
            "tags": []
          },
          "execution_count": 27
        }
      ]
    },
    {
      "cell_type": "code",
      "metadata": {
        "id": "LHG86MGSU7ZG"
      },
      "source": [
        ""
      ],
      "execution_count": null,
      "outputs": []
    },
    {
      "cell_type": "code",
      "metadata": {
        "id": "XgsTRXNmJgsa"
      },
      "source": [
        "def rmv_extension(f=''):\n",
        "  f = f.split('.')\n",
        "  f = \".\".join(f[:-1])\n",
        "  return f\n",
        "\n",
        "def get_extension(f=''):\n",
        "  f = f.split('.')\n",
        "  return f[-1]\n",
        "\n",
        "def box_cord( csv_file, image_name ):\n",
        "  bboxs = csv_file[csv_file.filename == image_name][['xmin','ymin','xmax','ymax']]\n",
        "  return torch.from_numpy(bboxs.to_numpy())\n"
      ],
      "execution_count": null,
      "outputs": []
    },
    {
      "cell_type": "code",
      "metadata": {
        "id": "aHvXl_BQ1aYL"
      },
      "source": [
        "def draw_boxs_byname( img_names, test=False):\n",
        "\n",
        "  loc = 'train' if not test else 'test'\n",
        "  file = train_csv if not test else test_csv\n",
        "  img = plt.imread( f'{ROOT_DIR}/Data/{loc}/{img_names}')\n",
        "  for r in box_cord( file , img_names ):\n",
        "    img = cv2.rectangle(img,(r[0],r[1]),(r[2],r[3]),color=(0,255,0),thickness=2)\n",
        "\n",
        "  return img\n",
        "\n",
        "def draw_boxs_byimg( img, boxs):\n",
        "  for r in boxs:\n",
        "    img = cv2.rectangle(img,(r[0],r[1]),(r[2],r[3]),color=(0,255,0),thickness=2)\n",
        "\n",
        "  return img"
      ],
      "execution_count": null,
      "outputs": []
    },
    {
      "cell_type": "code",
      "metadata": {
        "id": "vJfUf_JPcV3t"
      },
      "source": [
        ""
      ],
      "execution_count": null,
      "outputs": []
    },
    {
      "cell_type": "code",
      "metadata": {
        "id": "E1pWh-zG1xZo"
      },
      "source": [
        "\n",
        "def Adjust_brightness(image, boxes):\n",
        "    return F.adjust_brightness(image, np.random.uniform(1,2)), boxes\n",
        "\n",
        "def Adjust_contrast(image, boxes):\n",
        "    return F.adjust_contrast(image, np.random.uniform(1,2)), boxes\n",
        "\n",
        "def Adjust_saturation(image, boxes):\n",
        "    return F.adjust_saturation(image,  np.random.uniform(1,2)), boxes\n",
        "\n",
        "def lighting_noise(image, boxes):\n",
        "    new_image = image\n",
        "    perms = ((0, 1, 2), (0, 2, 1), (1, 0, 2), \n",
        "             (1, 2, 0), (2, 0, 1), (2, 1, 0))\n",
        "    swap = perms[random.randint(0, len(perms)- 1)]\n",
        "    new_image = F.to_tensor(new_image)\n",
        "    new_image = new_image[swap, :, :]\n",
        "    new_image = F.to_pil_image(new_image)\n",
        "    return new_image, boxes\n",
        "\n",
        "\n",
        "def hflip(image, boxes):\n",
        "\n",
        "    new_image = F.hflip(image)    \n",
        "    #flip boxes     \n",
        "    new_boxes = boxes.clone()\n",
        "    new_boxes[:, 0] = image.width - boxes[:, 0]\n",
        "    new_boxes[:, 2] = image.width - boxes[:, 2]\n",
        "    return new_image, new_boxes\n",
        "\n",
        "\n",
        "def vflip(image, boxes):\n",
        "\n",
        "    new_image = F.vflip(image)    \n",
        "    #flip boxes     \n",
        "    new_boxes = boxes.clone()\n",
        "    new_boxes[:, 1] = image.height - boxes[:, 1]\n",
        "    new_boxes[:, 3] = image.height - boxes[:, 3]\n",
        "    return new_image, new_boxes\n",
        "\n",
        "\n",
        "def rotate(image, boxes, angle=np.random.randint(1,11)):\n",
        "    '''\n",
        "        Rotate image and bounding box\n",
        "        image: A Pil image (w, h)\n",
        "        boxes: A tensors of dimensions (#objects, 4)\n",
        "        \n",
        "        Out: rotated image (w, h), rotated boxes\n",
        "    '''\n",
        "    new_image = image.copy()\n",
        "    new_boxes = boxes.clone()\n",
        "    \n",
        "    #Rotate image, expand = True\n",
        "    w = image.width\n",
        "    h = image.height\n",
        "    cx = w/2\n",
        "    cy = h/2\n",
        "    new_image = new_image.rotate(angle, expand= True)\n",
        "    angle = np.radians(angle)\n",
        "    alpha = np.cos(angle)\n",
        "    beta = np.sin(angle)\n",
        "    #Get affine matrix\n",
        "    AffineMatrix = torch.tensor([[alpha, beta, (1-alpha)*cx - beta*cy],\n",
        "                                 [-beta, alpha, beta*cx + (1-alpha)*cy]])\n",
        "    \n",
        "    #Rotation boxes\n",
        "    box_width = (boxes[:,2] - boxes[:,0]).reshape(-1,1)\n",
        "    box_height = (boxes[:,3] - boxes[:,1]).reshape(-1,1)\n",
        "    \n",
        "    #Get corners for boxes\n",
        "    x1 = boxes[:,0].reshape(-1,1)\n",
        "    y1 = boxes[:,1].reshape(-1,1)\n",
        "    \n",
        "    x2 = x1 + box_width\n",
        "    y2 = y1 \n",
        "    \n",
        "    x3 = x1\n",
        "    y3 = y1 + box_height\n",
        "    \n",
        "    x4 = boxes[:,2].reshape(-1,1)\n",
        "    y4 = boxes[:,3].reshape(-1,1)\n",
        "    \n",
        "    corners = torch.stack((x1,y1,x2,y2,x3,y3,x4,y4), dim= 1)\n",
        "    # corners.reshape(8, 8)    #Tensors of dimensions (#objects, 8)\n",
        "    corners = corners.reshape(-1,2) #Tensors of dimension (4* #objects, 2)\n",
        "    corners = torch.cat((corners, torch.ones(corners.shape[0], 1).long()), dim= 1) #(Tensors of dimension (4* #objects, 3))\n",
        "    \n",
        "    cos = np.abs(AffineMatrix[0, 0])\n",
        "    sin = np.abs(AffineMatrix[0, 1])\n",
        "    \n",
        "    nW = int((h * sin) + (w * cos))\n",
        "    nH = int((h * cos) + (w * sin))\n",
        "    AffineMatrix[0, 2] += (nW / 2) - cx\n",
        "    AffineMatrix[1, 2] += (nH / 2) - cy\n",
        "    \n",
        "    #Apply affine transform\n",
        "    rotate_corners = torch.mm(AffineMatrix , corners.t().double()).t()\n",
        "    rotate_corners = rotate_corners.reshape(-1,8)\n",
        "    \n",
        "    x_corners = rotate_corners[:,[0,2,4,6]]\n",
        "    y_corners = rotate_corners[:,[1,3,5,7]]\n",
        "    \n",
        "    #Get (x_min, y_min, x_max, y_max)\n",
        "    x_min, _ = torch.min(x_corners, dim= 1)\n",
        "    x_min = x_min.reshape(-1, 1)\n",
        "    y_min, _ = torch.min(y_corners, dim= 1)\n",
        "    y_min = y_min.reshape(-1, 1)\n",
        "    x_max, _ = torch.max(x_corners, dim= 1)\n",
        "    x_max = x_max.reshape(-1, 1)\n",
        "    y_max, _ = torch.max(y_corners, dim= 1)\n",
        "    y_max = y_max.reshape(-1, 1)\n",
        "    \n",
        "    new_boxes = torch.cat((x_min, y_min, x_max, y_max), dim= 1)\n",
        "    \n",
        "    scale_x = new_image.width / w\n",
        "    scale_y = new_image.height / h\n",
        "    \n",
        "    #Resize new image to (w, h)\n",
        "    new_image = new_image.resize((w, h))\n",
        "    \n",
        "    #Resize boxes\n",
        "    new_boxes /= torch.Tensor([scale_x, scale_y, scale_x, scale_y])\n",
        "    new_boxes[:, 0] = torch.clamp(new_boxes[:, 0], 0, w)\n",
        "    new_boxes[:, 1] = torch.clamp(new_boxes[:, 1], 0, h)\n",
        "    new_boxes[:, 2] = torch.clamp(new_boxes[:, 2], 0, w)\n",
        "    new_boxes[:, 3] = torch.clamp(new_boxes[:, 3], 0, h)\n",
        "\n",
        "    return new_image, new_boxes\n"
      ],
      "execution_count": null,
      "outputs": []
    },
    {
      "cell_type": "code",
      "metadata": {
        "id": "HoVdwSmcO-R_"
      },
      "source": [
        ""
      ],
      "execution_count": null,
      "outputs": []
    },
    {
      "cell_type": "code",
      "metadata": {
        "colab": {
          "base_uri": "https://localhost:8080/",
          "height": 286
        },
        "id": "iQ9qGOow4Lp-",
        "outputId": "4a792a8c-e6e1-443a-fed5-a81d737eda29"
      },
      "source": [
        "img_name = 'apple_48.jpg'\n",
        "img = plt.imread(f'{ROOT_DIR}/Data/train/{img_name}')\n",
        "plt.imshow(draw_boxs_byimg(img,box_cord(train_csv,img_name)))"
      ],
      "execution_count": null,
      "outputs": [
        {
          "output_type": "execute_result",
          "data": {
            "text/plain": [
              "<matplotlib.image.AxesImage at 0x7f5397c7ad10>"
            ]
          },
          "metadata": {
            "tags": []
          },
          "execution_count": 8
        },
        {
          "output_type": "display_data",
          "data": {
            "image/png": "[encoded data removed]",
            "text/plain": [
              "<Figure size 432x288 with 1 Axes>"
            ]
          },
          "metadata": {
            "tags": [],
            "needs_background": "light"
          }
        }
      ]
    },
    {
      "cell_type": "code",
      "metadata": {
        "id": "Tpn3IZUqP2vq"
      },
      "source": [
        ""
      ],
      "execution_count": null,
      "outputs": []
    },
    {
      "cell_type": "code",
      "metadata": {
        "colab": {
          "base_uri": "https://localhost:8080/",
          "height": 286
        },
        "id": "0HpV9Avc4brB",
        "outputId": "1525b230-0f02-42ac-87d0-f3adcce2f5f1"
      },
      "source": [
        "img = Image.open(f'{ROOT_DIR}/Data/train/{img_name}')\n",
        "box = box_cord(train_csv,img_name)\n",
        "img, box = rotate(img, box)\n",
        "\n",
        "plt.imshow(draw_boxs_byimg(np.asarray(img),box))"
      ],
      "execution_count": null,
      "outputs": [
        {
          "output_type": "execute_result",
          "data": {
            "text/plain": [
              "<matplotlib.image.AxesImage at 0x7fb6f9f26c50>"
            ]
          },
          "metadata": {
            "tags": []
          },
          "execution_count": 20
        },
        {
          "output_type": "display_data",
          "data": {
            "image/png": "[encoded data removed]",
            "text/plain": [
              "<Figure size 432x288 with 1 Axes>"
            ]
          },
          "metadata": {
            "tags": [],
            "needs_background": "light"
          }
        }
      ]
    },
    {
      "cell_type": "code",
      "metadata": {
        "colab": {
          "base_uri": "https://localhost:8080/",
          "height": 159
        },
        "id": "iYW6XZ_14qIY",
        "outputId": "fb5abfb7-0296-4e14-8671-596fb4378288"
      },
      "source": [
        "print(len(glob.glob(ROOT_DIR+'/Data/train/*.jpg')),train_csv.shape)\n",
        "train_csv.tail(3)"
      ],
      "execution_count": null,
      "outputs": [
        {
          "output_type": "stream",
          "text": [
            "240 (480, 8)\n"
          ],
          "name": "stdout"
        },
        {
          "output_type": "execute_result",
          "data": {
            "text/html": [
              "<div>\n",
              "<style scoped>\n",
              "    .dataframe tbody tr th:only-of-type {\n",
              "        vertical-align: middle;\n",
              "    }\n",
              "\n",
              "    .dataframe tbody tr th {\n",
              "        vertical-align: top;\n",
              "    }\n",
              "\n",
              "    .dataframe thead th {\n",
              "        text-align: right;\n",
              "    }\n",
              "</style>\n",
              "<table border=\"1\" class=\"dataframe\">\n",
              "  <thead>\n",
              "    <tr style=\"text-align: right;\">\n",
              "      <th></th>\n",
              "      <th>filename</th>\n",
              "      <th>width</th>\n",
              "      <th>height</th>\n",
              "      <th>class</th>\n",
              "      <th>xmin</th>\n",
              "      <th>ymin</th>\n",
              "      <th>xmax</th>\n",
              "      <th>ymax</th>\n",
              "    </tr>\n",
              "  </thead>\n",
              "  <tbody>\n",
              "    <tr>\n",
              "      <th>477</th>\n",
              "      <td>apple_26.jpg</td>\n",
              "      <td>350</td>\n",
              "      <td>241</td>\n",
              "      <td>apple</td>\n",
              "      <td>61</td>\n",
              "      <td>22</td>\n",
              "      <td>217</td>\n",
              "      <td>174</td>\n",
              "    </tr>\n",
              "    <tr>\n",
              "      <th>478</th>\n",
              "      <td>apple_27.jpg</td>\n",
              "      <td>700</td>\n",
              "      <td>350</td>\n",
              "      <td>apple</td>\n",
              "      <td>51</td>\n",
              "      <td>3</td>\n",
              "      <td>414</td>\n",
              "      <td>350</td>\n",
              "    </tr>\n",
              "    <tr>\n",
              "      <th>479</th>\n",
              "      <td>apple_27.jpg</td>\n",
              "      <td>700</td>\n",
              "      <td>350</td>\n",
              "      <td>apple</td>\n",
              "      <td>270</td>\n",
              "      <td>43</td>\n",
              "      <td>657</td>\n",
              "      <td>350</td>\n",
              "    </tr>\n",
              "  </tbody>\n",
              "</table>\n",
              "</div>"
            ],
            "text/plain": [
              "         filename  width  height  class  xmin  ymin  xmax  ymax\n",
              "477  apple_26.jpg    350     241  apple    61    22   217   174\n",
              "478  apple_27.jpg    700     350  apple    51     3   414   350\n",
              "479  apple_27.jpg    700     350  apple   270    43   657   350"
            ]
          },
          "metadata": {
            "tags": []
          },
          "execution_count": 28
        }
      ]
    },
    {
      "cell_type": "code",
      "metadata": {
        "id": "WHNWV8VrCh9i",
        "colab": {
          "base_uri": "https://localhost:8080/"
        },
        "outputId": "e804ab5a-6722-46d1-9b11-21dfc2ddb9c6"
      },
      "source": [
        "# Creating more annotated images to imporve Datasets & trainig\n",
        "\n",
        "\n",
        "for f in tqdm(os.listdir(ROOT_DIR+'/Data/train')):\n",
        "  ext = get_extension(f)\n",
        "  if ext in ['jpg','jpeg','png']:\n",
        "    img = Image.open(ROOT_DIR+'/Data/train/'+f)\n",
        "\n",
        "\n",
        "\n",
        "    # Few jpg files were currupt (they were png but their extention was jpg)\n",
        "    # so this part is to delete those fles and save them as jpg\n",
        "    os.remove(ROOT_DIR+'/Data/train/'+f)\n",
        "    img = img.convert('RGB')\n",
        "    img.save(f'{ROOT_DIR}/Data/train/{f}')\n",
        "    \n",
        "\n",
        "\n",
        "    box = box_cord(train_csv,f)\n",
        "\n",
        "    # Appling few random augmentations to images & boxes\n",
        "\n",
        "    if random.getrandbits(1):\n",
        "      img, box = Adjust_brightness( img, box )\n",
        "    if random.getrandbits(1):\n",
        "      img, box = Adjust_contrast( img, box )\n",
        "    if random.getrandbits(1):\n",
        "      img, box = Adjust_saturation( img, box )\n",
        "    \n",
        "    # This annotation I'm commenting so that we can also take advantage of colors,\n",
        "    # this annotation could have been usefull in case we had large data set    \n",
        "\n",
        "    # if random.getrandbits(1):\n",
        "    #   img, box = lighting_noise( img, box )\n",
        "\n",
        "    if random.getrandbits(1):\n",
        "      img, box = hflip( img, box )\n",
        "    if random.getrandbits(1):\n",
        "      img, box = vflip( img, box )\n",
        "    if random.getrandbits(1):\n",
        "      img, box = rotate( img, box )\n",
        "    \n",
        "    new_name = rmv_extension(f) + '_n.' + ext\n",
        "    d = dict(train_csv[train_csv.filename == f].iloc[0])\n",
        "    for i,b in enumerate(box):\n",
        "      d['filename'] = new_name\n",
        "      d['xmin'] = int(box[i][0] if box[i][0] < box[i][2] else box[i][2] )\n",
        "      d['ymin'] = int(box[i][1] if box[i][1] < box[i][3] else box[i][3] )\n",
        "      d['xmax'] = int(box[i][2] if box[i][0] < box[i][2] else box[i][0] )\n",
        "      d['ymax'] = int(box[i][3] if box[i][1] < box[i][3] else box[i][1] )\n",
        "\n",
        "    train_csv = train_csv.append(d,ignore_index=True)\n",
        "    img.save(f'{ROOT_DIR}/Data/train/{new_name}')\n",
        "\n"
      ],
      "execution_count": null,
      "outputs": [
        {
          "output_type": "stream",
          "text": [
            "\n",
            "  0%|          | 0/480 [00:00<?, ?it/s]\u001b[A\n",
            "  0%|          | 1/480 [00:00<02:03,  3.88it/s]\u001b[A\n",
            "  1%|          | 3/480 [00:00<01:34,  5.06it/s]\u001b[A\n",
            "  2%|▏         | 11/480 [00:00<01:09,  6.73it/s]\u001b[A\n",
            "  3%|▎         | 13/480 [00:00<00:57,  8.19it/s]\u001b[A\n",
            "  4%|▍         | 21/480 [00:01<00:44, 10.22it/s]\u001b[A\n",
            "  5%|▍         | 23/480 [00:01<00:39, 11.52it/s]\u001b[A\n",
            "  5%|▌         | 26/480 [00:01<00:32, 13.87it/s]\u001b[A\n",
            "  6%|▌         | 28/480 [00:01<00:33, 13.50it/s]\u001b[A\n",
            "  6%|▋         | 30/480 [00:02<01:27,  5.11it/s]\u001b[A\n",
            "  7%|▋         | 32/480 [00:02<01:10,  6.38it/s]\u001b[A\n",
            "  7%|▋         | 34/480 [00:02<00:57,  7.74it/s]\u001b[A\n",
            "  8%|▊         | 39/480 [00:02<00:43, 10.17it/s]\u001b[A\n",
            "  9%|▉         | 42/480 [00:03<00:39, 11.17it/s]\u001b[A\n",
            "  9%|▉         | 44/480 [00:03<00:34, 12.49it/s]\u001b[A\n",
            " 10%|▉         | 46/480 [00:03<00:55,  7.82it/s]\u001b[A\n",
            " 10%|█         | 50/480 [00:03<00:46,  9.25it/s]\u001b[A\n",
            " 11%|█         | 52/480 [00:04<00:41, 10.41it/s]\u001b[A\n",
            " 11%|█▏        | 54/480 [00:04<00:46,  9.07it/s]\u001b[A\n",
            " 12%|█▏        | 56/480 [00:04<00:39, 10.83it/s]\u001b[A\n",
            " 12%|█▏        | 58/480 [00:04<00:39, 10.67it/s]\u001b[A\n",
            " 12%|█▎        | 60/480 [00:04<00:37, 11.26it/s]\u001b[A\n",
            " 13%|█▎        | 62/480 [00:04<00:35, 11.68it/s]\u001b[A\n",
            " 13%|█▎        | 64/480 [00:05<00:32, 12.79it/s]\u001b[A\n",
            " 14%|█▍        | 68/480 [00:05<00:30, 13.41it/s]\u001b[A\n",
            " 15%|█▌        | 72/480 [00:05<00:24, 16.37it/s]\u001b[A\n",
            " 16%|█▌        | 75/480 [00:06<00:45,  8.93it/s]\u001b[A\n",
            " 17%|█▋        | 81/480 [00:06<00:33, 11.86it/s]\u001b[A\n",
            " 18%|█▊        | 84/480 [00:06<00:29, 13.54it/s]\u001b[A\n",
            " 18%|█▊        | 87/480 [00:06<00:35, 11.05it/s]\u001b[A\n",
            " 19%|█▉        | 93/480 [00:06<00:27, 14.25it/s]\u001b[A\n",
            " 20%|██        | 96/480 [00:07<00:33, 11.42it/s]\u001b[A\n",
            " 21%|██▏       | 103/480 [00:07<00:25, 14.79it/s]\u001b[A\n",
            " 23%|██▎       | 112/480 [00:07<00:19, 19.30it/s]\u001b[A\n",
            " 24%|██▍       | 117/480 [00:07<00:19, 18.51it/s]\u001b[A\n",
            " 25%|██▌       | 121/480 [00:08<00:20, 17.18it/s]\u001b[A\n",
            " 27%|██▋       | 128/480 [00:08<00:17, 20.67it/s]\u001b[A\n",
            " 28%|██▊       | 132/480 [00:08<00:18, 19.12it/s]\u001b[A\n",
            " 28%|██▊       | 136/480 [00:08<00:19, 17.38it/s]\u001b[A\n",
            " 29%|██▉       | 139/480 [00:08<00:18, 18.08it/s]\u001b[A\n",
            " 30%|██▉       | 142/480 [00:09<00:20, 16.33it/s]\u001b[A\n",
            " 30%|███       | 144/480 [00:09<00:27, 12.35it/s]\u001b[A\n",
            " 30%|███       | 146/480 [00:09<00:36,  9.13it/s]\u001b[A\n",
            " 31%|███       | 149/480 [00:10<00:37,  8.78it/s]\u001b[A\n",
            " 32%|███▏      | 153/480 [00:10<00:28, 11.28it/s]\u001b[A\n",
            " 32%|███▎      | 156/480 [00:10<00:23, 13.80it/s]\u001b[A\n",
            " 33%|███▎      | 159/480 [00:10<00:22, 14.01it/s]\u001b[A\n",
            " 34%|███▎      | 161/480 [00:10<00:22, 14.11it/s]\u001b[A\n",
            " 34%|███▍      | 163/480 [00:11<00:28, 11.07it/s]\u001b[A\n",
            " 34%|███▍      | 165/480 [00:11<00:27, 11.50it/s]\u001b[A\n",
            " 35%|███▍      | 167/480 [00:11<00:28, 10.95it/s]\u001b[A\n",
            " 35%|███▌      | 170/480 [00:11<00:26, 11.79it/s]\u001b[A\n",
            " 36%|███▌      | 172/480 [00:11<00:23, 13.20it/s]\u001b[A\n",
            " 37%|███▋      | 177/480 [00:12<00:23, 13.00it/s]\u001b[A\n",
            " 37%|███▋      | 179/480 [00:12<00:22, 13.41it/s]\u001b[A\n",
            " 38%|███▊      | 181/480 [00:12<00:47,  6.29it/s]\u001b[A\n",
            " 38%|███▊      | 183/480 [00:13<00:39,  7.44it/s]\u001b[A\n",
            " 39%|███▊      | 185/480 [00:13<00:33,  8.93it/s]\u001b[A\n",
            " 39%|███▉      | 187/480 [00:13<00:36,  8.06it/s]\u001b[A\n",
            " 40%|████      | 194/480 [00:13<00:26, 10.84it/s]\u001b[A\n",
            " 41%|████▏     | 198/480 [00:13<00:20, 13.76it/s]\u001b[A\n",
            " 42%|████▏     | 203/480 [00:13<00:15, 17.51it/s]\u001b[A\n",
            " 43%|████▎     | 207/480 [00:14<00:13, 20.27it/s]\u001b[A\n",
            " 44%|████▍     | 211/480 [00:14<00:11, 23.24it/s]\u001b[A\n",
            " 45%|████▌     | 216/480 [00:14<00:09, 27.12it/s]\u001b[A\n",
            " 46%|████▌     | 220/480 [00:14<00:20, 12.73it/s]\u001b[A\n",
            " 46%|████▋     | 223/480 [00:15<00:33,  7.75it/s]\u001b[A\n",
            " 47%|████▋     | 227/480 [00:16<00:40,  6.17it/s]\u001b[A\n",
            " 48%|████▊     | 229/480 [00:17<00:50,  5.01it/s]\u001b[A\n",
            " 48%|████▊     | 232/480 [00:17<00:47,  5.18it/s]\u001b[A\n",
            " 49%|████▉     | 234/480 [00:18<01:03,  3.90it/s]\u001b[A\n",
            " 49%|████▉     | 235/480 [00:19<01:47,  2.29it/s]\u001b[A\n",
            " 49%|████▉     | 236/480 [00:19<01:53,  2.15it/s]\u001b[A\n",
            " 50%|█████     | 240/480 [00:20<01:26,  2.78it/s]\u001b[A\n",
            " 50%|█████     | 241/480 [00:21<01:44,  2.29it/s]\u001b[A\n",
            " 51%|█████     | 245/480 [00:21<01:24,  2.79it/s]\u001b[A\n",
            " 51%|█████▏    | 246/480 [00:22<01:38,  2.38it/s]\u001b[A\n",
            " 51%|█████▏    | 247/480 [00:22<01:33,  2.49it/s]\u001b[A\n",
            " 52%|█████▏    | 248/480 [00:23<01:45,  2.20it/s]\u001b[A\n",
            " 52%|█████▏    | 249/480 [00:23<01:41,  2.27it/s]\u001b[A\n",
            " 52%|█████▏    | 250/480 [00:24<01:44,  2.21it/s]\u001b[A\n",
            " 52%|█████▏    | 251/480 [00:24<01:43,  2.21it/s]\u001b[A\n",
            " 52%|█████▎    | 252/480 [00:25<01:57,  1.95it/s]\u001b[A\n",
            " 53%|█████▎    | 253/480 [00:25<02:05,  1.81it/s]\u001b[A\n",
            " 53%|█████▎    | 256/480 [00:26<01:50,  2.03it/s]\u001b[A\n",
            " 54%|█████▎    | 257/480 [00:27<01:25,  2.61it/s]\u001b[A\n",
            " 54%|█████▍    | 258/480 [00:27<01:54,  1.94it/s]\u001b[A\n",
            " 54%|█████▍    | 259/480 [00:28<01:54,  1.93it/s]\u001b[A\n",
            " 55%|█████▍    | 262/480 [00:28<01:28,  2.46it/s]\u001b[A\n",
            " 55%|█████▍    | 263/480 [00:29<01:37,  2.22it/s]\u001b[A\n",
            " 55%|█████▌    | 264/480 [00:29<01:46,  2.02it/s]\u001b[A\n",
            " 55%|█████▌    | 265/480 [00:30<01:36,  2.22it/s]\u001b[A\n",
            " 56%|█████▋    | 270/480 [00:31<01:18,  2.69it/s]\u001b[A\n",
            " 56%|█████▋    | 271/480 [00:31<01:27,  2.38it/s]\u001b[A\n",
            " 57%|█████▋    | 273/480 [00:32<01:16,  2.70it/s]\u001b[A\n",
            " 59%|█████▉    | 282/480 [00:32<00:55,  3.59it/s]\u001b[A\n",
            " 60%|█████▉    | 287/480 [00:33<00:45,  4.22it/s]\u001b[A\n",
            " 60%|██████    | 288/480 [00:33<00:55,  3.44it/s]\u001b[A\n",
            " 60%|██████    | 289/480 [00:34<01:08,  2.79it/s]\u001b[A\n",
            " 61%|██████    | 291/480 [00:34<01:01,  3.08it/s]\u001b[A\n",
            " 61%|██████    | 293/480 [00:36<01:34,  1.97it/s]\u001b[A\n",
            " 61%|██████▏   | 295/480 [00:38<02:02,  1.50it/s]\u001b[A\n",
            " 62%|██████▏   | 296/480 [00:39<02:02,  1.51it/s]\u001b[A\n",
            " 62%|██████▏   | 297/480 [00:40<01:50,  1.65it/s]\u001b[A\n",
            " 62%|██████▏   | 298/480 [00:40<01:46,  1.71it/s]\u001b[A\n",
            " 62%|██████▎   | 300/480 [00:41<01:25,  2.11it/s]\u001b[A\n",
            " 63%|██████▎   | 303/480 [00:42<01:16,  2.31it/s]\u001b[A\n",
            " 63%|██████▎   | 304/480 [00:42<01:20,  2.20it/s]\u001b[A\n",
            " 64%|██████▎   | 305/480 [00:43<01:36,  1.82it/s]\u001b[A\n",
            " 64%|██████▍   | 308/480 [00:44<01:18,  2.20it/s]\u001b[A\n",
            " 64%|██████▍   | 309/480 [00:44<01:30,  1.89it/s]\u001b[A\n",
            " 65%|██████▍   | 311/480 [00:45<01:19,  2.13it/s]\u001b[A\n",
            " 65%|██████▌   | 312/480 [00:45<01:22,  2.04it/s]\u001b[A\n",
            " 65%|██████▌   | 314/480 [00:46<01:16,  2.16it/s]\u001b[A\n",
            " 66%|██████▌   | 317/480 [00:47<01:00,  2.69it/s]\u001b[A\n",
            " 66%|██████▋   | 318/480 [00:47<01:11,  2.27it/s]\u001b[A\n",
            " 66%|██████▋   | 319/480 [00:48<01:07,  2.38it/s]\u001b[A\n",
            " 67%|██████▋   | 321/480 [00:48<00:59,  2.66it/s]\u001b[A\n",
            " 67%|██████▋   | 322/480 [00:49<01:29,  1.77it/s]\u001b[A\n",
            " 67%|██████▋   | 323/480 [00:50<01:35,  1.64it/s]\u001b[A\n",
            " 68%|██████▊   | 327/480 [00:51<01:15,  2.03it/s]\u001b[A\n",
            " 68%|██████▊   | 328/480 [00:52<01:29,  1.70it/s]\u001b[A\n",
            " 69%|██████▉   | 330/480 [00:52<01:20,  1.86it/s]\u001b[A\n",
            " 70%|███████   | 336/480 [00:53<00:58,  2.45it/s]\u001b[A\n",
            " 70%|███████   | 337/480 [00:54<01:00,  2.36it/s]\u001b[A\n",
            " 71%|███████   | 340/480 [00:54<00:46,  2.98it/s]\u001b[A\n",
            " 71%|███████   | 341/480 [00:55<00:59,  2.32it/s]\u001b[A\n",
            " 71%|███████▏  | 342/480 [00:55<01:11,  1.94it/s]\u001b[A\n",
            " 72%|███████▏  | 344/480 [00:57<01:15,  1.80it/s]\u001b[A\n",
            " 72%|███████▏  | 346/480 [00:57<01:02,  2.14it/s]\u001b[A\n",
            " 73%|███████▎  | 349/480 [00:58<00:53,  2.47it/s]\u001b[A\n",
            " 73%|███████▎  | 351/480 [00:59<00:49,  2.62it/s]\u001b[A\n",
            " 74%|███████▍  | 354/480 [00:59<00:40,  3.09it/s]\u001b[A\n",
            " 74%|███████▍  | 355/480 [01:00<00:51,  2.42it/s]\u001b[A\n",
            " 75%|███████▍  | 359/480 [01:00<00:40,  2.97it/s]\u001b[A\n",
            " 75%|███████▌  | 360/480 [01:01<00:51,  2.33it/s]\u001b[A\n",
            " 76%|███████▌  | 363/480 [01:02<00:44,  2.62it/s]\u001b[A\n",
            " 76%|███████▋  | 367/480 [01:02<00:34,  3.28it/s]\u001b[A\n",
            " 77%|███████▋  | 368/480 [01:03<00:54,  2.04it/s]\u001b[A\n",
            " 77%|███████▋  | 370/480 [01:04<00:46,  2.36it/s]\u001b[A\n",
            " 78%|███████▊  | 373/480 [01:04<00:38,  2.80it/s]\u001b[A\n",
            " 78%|███████▊  | 374/480 [01:05<00:43,  2.46it/s]\u001b[A\n",
            " 78%|███████▊  | 375/480 [01:06<01:09,  1.51it/s]\u001b[A\n",
            " 78%|███████▊  | 376/480 [01:07<01:04,  1.61it/s]\u001b[A\n",
            " 79%|███████▊  | 377/480 [01:08<01:25,  1.20it/s]\u001b[A\n",
            " 79%|███████▉  | 379/480 [01:09<01:06,  1.51it/s]\u001b[A\n",
            " 79%|███████▉  | 380/480 [01:09<01:05,  1.52it/s]\u001b[A\n",
            " 81%|████████  | 387/480 [01:10<00:45,  2.03it/s]\u001b[A\n",
            " 81%|████████▏ | 391/480 [01:10<00:33,  2.65it/s]\u001b[A\n",
            " 82%|████████▏ | 393/480 [01:11<00:31,  2.77it/s]\u001b[A\n",
            " 82%|████████▏ | 394/480 [01:12<00:35,  2.40it/s]\u001b[A\n",
            " 82%|████████▎ | 396/480 [01:12<00:32,  2.59it/s]\u001b[A\n",
            " 83%|████████▎ | 399/480 [01:13<00:26,  3.02it/s]\u001b[A\n",
            " 84%|████████▍ | 402/480 [01:13<00:22,  3.49it/s]\u001b[A\n",
            " 84%|████████▍ | 403/480 [01:14<00:28,  2.66it/s]\u001b[A\n",
            " 84%|████████▍ | 404/480 [01:15<00:39,  1.92it/s]\u001b[A\n",
            " 85%|████████▌ | 408/480 [01:15<00:29,  2.46it/s]\u001b[A\n",
            " 85%|████████▌ | 410/480 [01:16<00:29,  2.38it/s]\u001b[A\n",
            " 86%|████████▌ | 413/480 [01:17<00:23,  2.87it/s]\u001b[A\n",
            " 87%|████████▋ | 416/480 [01:17<00:19,  3.36it/s]\u001b[A\n",
            " 87%|████████▋ | 417/480 [01:18<00:27,  2.27it/s]\u001b[A\n",
            " 88%|████████▊ | 420/480 [01:19<00:22,  2.73it/s]\u001b[A\n",
            " 88%|████████▊ | 421/480 [01:19<00:25,  2.35it/s]\u001b[A\n",
            " 88%|████████▊ | 424/480 [01:20<00:20,  2.80it/s]\u001b[A\n",
            " 89%|████████▉ | 426/480 [01:21<00:19,  2.83it/s]\u001b[A\n",
            " 89%|████████▉ | 427/480 [01:21<00:24,  2.13it/s]\u001b[A\n",
            " 89%|████████▉ | 428/480 [01:22<00:24,  2.09it/s]\u001b[A\n",
            " 89%|████████▉ | 429/480 [01:22<00:25,  2.00it/s]\u001b[A\n",
            " 90%|████████▉ | 430/480 [01:23<00:25,  1.93it/s]\u001b[A\n",
            " 90%|█████████ | 433/480 [01:23<00:19,  2.42it/s]\u001b[A\n",
            " 90%|█████████ | 434/480 [01:24<00:21,  2.13it/s]\u001b[A\n",
            " 91%|█████████ | 437/480 [01:24<00:16,  2.68it/s]\u001b[A\n",
            " 91%|█████████▏| 438/480 [01:25<00:18,  2.28it/s]\u001b[A\n",
            " 92%|█████████▏| 441/480 [01:26<00:16,  2.33it/s]\u001b[A\n",
            " 93%|█████████▎| 447/480 [01:27<00:10,  3.10it/s]\u001b[A\n",
            " 93%|█████████▎| 448/480 [01:27<00:12,  2.57it/s]\u001b[A\n",
            " 94%|█████████▎| 449/480 [01:28<00:14,  2.12it/s]\u001b[A\n",
            " 94%|█████████▍| 450/480 [01:28<00:14,  2.11it/s]\u001b[A\n",
            " 95%|█████████▍| 454/480 [01:29<00:09,  2.63it/s]\u001b[A\n",
            " 95%|█████████▍| 455/480 [01:30<00:11,  2.23it/s]\u001b[A\n",
            " 95%|█████████▌| 457/480 [01:30<00:09,  2.41it/s]\u001b[A\n",
            " 95%|█████████▌| 458/480 [01:31<00:09,  2.21it/s]\u001b[A\n",
            " 96%|█████████▌| 460/480 [01:31<00:07,  2.51it/s]\u001b[A\n",
            " 96%|█████████▋| 462/480 [01:32<00:06,  2.62it/s]\u001b[A\n",
            " 96%|█████████▋| 463/480 [01:33<00:06,  2.43it/s]\u001b[A\n",
            " 97%|█████████▋| 464/480 [01:33<00:06,  2.29it/s]\u001b[A\n",
            " 97%|█████████▋| 465/480 [01:34<00:07,  1.88it/s]\u001b[A\n",
            " 97%|█████████▋| 466/480 [01:34<00:07,  1.86it/s]\u001b[A\n",
            " 98%|█████████▊| 468/480 [01:35<00:05,  2.07it/s]\u001b[A\n",
            " 98%|█████████▊| 471/480 [01:36<00:03,  2.43it/s]\u001b[A\n",
            "100%|██████████| 480/480 [01:37<00:00,  4.92it/s]\n"
          ],
          "name": "stderr"
        }
      ]
    },
    {
      "cell_type": "code",
      "metadata": {
        "id": "aokAbearftvk",
        "colab": {
          "base_uri": "https://localhost:8080/",
          "height": 142
        },
        "outputId": "adcbddae-363b-430f-b6e1-cb29a796a9aa"
      },
      "source": [
        "train_csv.tail(3)"
      ],
      "execution_count": null,
      "outputs": [
        {
          "output_type": "execute_result",
          "data": {
            "text/html": [
              "<div>\n",
              "<style scoped>\n",
              "    .dataframe tbody tr th:only-of-type {\n",
              "        vertical-align: middle;\n",
              "    }\n",
              "\n",
              "    .dataframe tbody tr th {\n",
              "        vertical-align: top;\n",
              "    }\n",
              "\n",
              "    .dataframe thead th {\n",
              "        text-align: right;\n",
              "    }\n",
              "</style>\n",
              "<table border=\"1\" class=\"dataframe\">\n",
              "  <thead>\n",
              "    <tr style=\"text-align: right;\">\n",
              "      <th></th>\n",
              "      <th>filename</th>\n",
              "      <th>width</th>\n",
              "      <th>height</th>\n",
              "      <th>class</th>\n",
              "      <th>xmin</th>\n",
              "      <th>ymin</th>\n",
              "      <th>xmax</th>\n",
              "      <th>ymax</th>\n",
              "    </tr>\n",
              "  </thead>\n",
              "  <tbody>\n",
              "    <tr>\n",
              "      <th>717</th>\n",
              "      <td>orange_31_n.jpg</td>\n",
              "      <td>1300</td>\n",
              "      <td>1177</td>\n",
              "      <td>orange</td>\n",
              "      <td>702</td>\n",
              "      <td>530</td>\n",
              "      <td>1249</td>\n",
              "      <td>1045</td>\n",
              "    </tr>\n",
              "    <tr>\n",
              "      <th>718</th>\n",
              "      <td>orange_72_n.jpg</td>\n",
              "      <td>416</td>\n",
              "      <td>416</td>\n",
              "      <td>orange</td>\n",
              "      <td>37</td>\n",
              "      <td>51</td>\n",
              "      <td>368</td>\n",
              "      <td>379</td>\n",
              "    </tr>\n",
              "    <tr>\n",
              "      <th>719</th>\n",
              "      <td>orange_60_n.jpg</td>\n",
              "      <td>1824</td>\n",
              "      <td>1951</td>\n",
              "      <td>orange</td>\n",
              "      <td>241</td>\n",
              "      <td>191</td>\n",
              "      <td>1633</td>\n",
              "      <td>1590</td>\n",
              "    </tr>\n",
              "  </tbody>\n",
              "</table>\n",
              "</div>"
            ],
            "text/plain": [
              "            filename  width  height   class  xmin  ymin  xmax  ymax\n",
              "717  orange_31_n.jpg   1300    1177  orange   702   530  1249  1045\n",
              "718  orange_72_n.jpg    416     416  orange    37    51   368   379\n",
              "719  orange_60_n.jpg   1824    1951  orange   241   191  1633  1590"
            ]
          },
          "metadata": {
            "tags": []
          },
          "execution_count": 30
        }
      ]
    },
    {
      "cell_type": "code",
      "metadata": {
        "id": "VSAIB2lSk7uB"
      },
      "source": [
        "train_csv.to_csv(f'{ROOT_DIR}/Data/train_n.csv')"
      ],
      "execution_count": null,
      "outputs": []
    },
    {
      "cell_type": "code",
      "metadata": {
        "id": "hDM7tBzunRAP"
      },
      "source": [
        ""
      ],
      "execution_count": null,
      "outputs": []
    },
    {
      "cell_type": "code",
      "metadata": {
        "id": "hmsdf9eYr2iC"
      },
      "source": [
        ""
      ],
      "execution_count": null,
      "outputs": []
    },
    {
      "cell_type": "code",
      "metadata": {
        "id": "0aqwdDsdr2d1"
      },
      "source": [
        ""
      ],
      "execution_count": null,
      "outputs": []
    },
    {
      "cell_type": "code",
      "metadata": {
        "id": "rIMNblH0r2Z2"
      },
      "source": [
        ""
      ],
      "execution_count": null,
      "outputs": []
    },
    {
      "cell_type": "code",
      "metadata": {
        "id": "SGdaWo30r2V4"
      },
      "source": [
        ""
      ],
      "execution_count": null,
      "outputs": []
    },
    {
      "cell_type": "code",
      "metadata": {
        "id": "K4aCs8cIr2Qp"
      },
      "source": [
        ""
      ],
      "execution_count": null,
      "outputs": []
    },
    {
      "cell_type": "code",
      "metadata": {
        "id": "B88ClSTDr2La"
      },
      "source": [
        ""
      ],
      "execution_count": null,
      "outputs": []
    }
  ]
}